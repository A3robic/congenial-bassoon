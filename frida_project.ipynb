#putting myself through bootcamp, and this is one of the small projects at the end of the module. When I put in Codecademy, task 5 prints out the expected short list of 7. When I put this code into Jupyter Notebook, the list increases each time I print. Can someone maybe help me why this is happening?

{
 "cells": [
  {
   "cell_type": "markdown",
   "metadata": {},
   "source": [
    "# Frida Kahlo Exhibition\n",
    "\n",
    "You've been hired to work on a retrospective of Frida Kahlo's work at a major museum. Your job is to put together the audio tour, but in order to do that you need to create a list of each painting featured in the exhibit, the date it was painted, and its spot in the tour. \n",
    "\n",
    "Use your knowledge of Python lists to create a master list of each painting, its date, and its audio tour ID. \n"
   ]
  },
  {
   "cell_type": "markdown",
   "metadata": {},
   "source": [
    "## Task 1\n",
    "First, create a list called `paintings` and add the following titles to it:\n",
    "\n",
    "`The Two Fridas, My Dress Hangs Here, Tree of Hope, Self Portrait With Monkeys`\n"
   ]
  },
  {
   "cell_type": "code",
   "execution_count": 1,
   "metadata": {},
   "outputs": [],
   "source": [
    "paintings = [\"The Two Fridas\", \"My Dress Hangs Here\", \"Tree of Hope\", \"Self Portrait With Monkeys\"]"
   ]
  },
  {
   "cell_type": "markdown",
   "metadata": {},
   "source": [
    "## Task 2\n",
    "\n",
    "Next, create a second list called `dates` and give it the following values:\n",
    "`1939, 1933, 1946, 1940`"
   ]
  },
  {
   "cell_type": "code",
   "execution_count": 2,
   "metadata": {},
   "outputs": [],
   "source": [
    "dates = [1939, 1933, 1946, 1940]"
   ]
  },
  {
   "cell_type": "markdown",
   "metadata": {},
   "source": [
    "## Task 3 \n",
    "It doesn't do much good to have the paintings without their dates, and vice versa. \n",
    "Zip together the two lists so that each painting is paired with its date and resave it to the `paintings` variable. Make sure to convert the zipped object into a list using the `list()` function. Print the results to the terminal to check your work. "
   ]
  },
  {
   "cell_type": "code",
   "execution_count": 3,
   "metadata": {},
   "outputs": [
    {
     "name": "stdout",
     "output_type": "stream",
     "text": [
      "[('The Two Fridas', 1939), ('My Dress Hangs Here', 1933), ('Tree of Hope', 1946), ('Self Portrait With Monkeys', 1940)]\n"
     ]
    }
   ],
   "source": [
    "paintings = list(zip(paintings, dates))\n",
    "print(paintings)"
   ]
  },
  {
   "cell_type": "markdown",
   "metadata": {},
   "source": [
    "## Task 4\n",
    "There were some last minute additions to the show that we need to add to our list. Append the following paintings to our `paintings` list then re-print to check they were added correctly:\n",
    "- 'The Broken Column', 1944\n",
    "- 'The Wounded Deer', 1946\n",
    "- 'Me and My Doll', 1937\n",
    "\n",
    "Hint: Make sure to append each painting individually and that you're appending them as tuples, not lists. "
   ]
  },
  {
   "cell_type": "code",
   "execution_count": 37,
   "metadata": {},
   "outputs": [
    {
     "name": "stdout",
     "output_type": "stream",
     "text": [
      "[('The Two Fridas', 1939), ('My Dress Hangs Here', 1933), ('Tree of Hope', 1946), ('Self Portrait With Monkeys', 1940), 'The Broken Column', 1944, 'The Wounded Deer', 1946, 'Me and My Doll', 1937, ['The Broken Column', 1944], ['The Wounded Deer', 1946], ['Me and My Doll', 1937], ('The Broken Column', 1944), ('The Wounded Deer', 1946), ('Me and My Doll', 1937), ('The Broken Column', 1944), ('The Wounded Deer', 1946), ('Me and My Doll', 1937), ('The Broken Column', 1944), ('The Wounded Deer', 1946), ('Me and My Doll', 1937), ['The Broken Column', 1944], ['The Wounded Deer', 1946], ['Me and My Doll', 1937], ['The Broken Column', 1944], ['The Wounded Deer', 1946], ['Me and My Doll', 1937], ['The Broken Column', 1944], ['The Wounded Deer', 1946], ['Me and My Doll', 1937], ['The Broken Column', 1944], ['The Wounded Deer', 1946], ['Me and My Doll', 1937], [('The Broken Column', 1944), ('The Wounded Deer', 1946), ('Me and My Doll', 1937)], [('The Broken Column', 1944), ('The Wounded Deer', 1946), ('Me and My Doll', 1937)], [('The Broken Column', 1944), ('The Wounded Deer', 1946), ('Me and My Doll', 1937)], [('The Broken Column', 1944), ('The Wounded Deer', 1946), ('Me and My Doll', 1937)], [('The Broken Column', 1944), ('The Wounded Deer', 1946), ('Me and My Doll', 1937)], [('The Broken Column', 1944), ('The Wounded Deer', 1946), ('Me and My Doll', 1937)], ['The Broken Column', 1944], ['The Wounded Deer', 1946], ['Me and My Doll', 1937], ['The Broken Column', 1944], ['The Wounded Deer', 1946], ['Me and My Doll', 1937], ['The Broken Column', 1944], ['The Wounded Deer', 1946], ['Me and My Doll', 1937], ('The Broken Column', 1944), ('The Wounded Deer', 1946), ('Me and My Doll', 1937), ('The Broken Column', 1944), ('The Wounded Deer', 1946), ('Me and My Doll', 1937), ('The Broken Column', 1944), ('The Wounded Deer', 1946), ('Me and My Doll', 1937), ('The Broken Column', 1944), ('The Wounded Deer', 1946), ('Me and My Doll', 1937), ('The Broken Column', 1944), ('The Wounded Deer', 1946), ('Me and My Doll', 1937)]\n"
     ]
    }
   ],
   "source": [
    "paintings.append(('The Broken Column', 1944))\n",
    "paintings.append(('The Wounded Deer', 1946))\n",
    "paintings.append(('Me and My Doll', 1937))\n",
    "\n",
    "print(paintings)"
   ]
  },
  {
   "cell_type": "markdown",
   "metadata": {},
   "source": [
    "## Task 5\n",
    "Since each of these paintings is going to be in the audio tour, they each need a unique identification number.\n",
    "But before we assign them a number, we first need to check how many paintings there are in total.\n",
    "\n",
    "Find the length of the `paintings` list."
   ]
  },
  {
   "cell_type": "code",
   "execution_count": 38,
   "metadata": {},
   "outputs": [
    {
     "name": "stdout",
     "output_type": "stream",
     "text": [
      "64\n"
     ]
    }
   ],
   "source": [
    "length_of_paintings = len(paintings)\n",
    "print(length_of_paintings)"
   ]
  },
  {
   "cell_type": "markdown",
   "metadata": {},
   "source": [
    "## Task 6\n",
    "Use the `range` method to generate a list of identification numbers that starts at 1 and is equal in length to our list of items. \n",
    "Save the list to the variable `audio_tour_number` and check your work by printing the list."
   ]
  },
  {
   "cell_type": "code",
   "execution_count": null,
   "metadata": {
    "collapsed": true,
    "jupyter": {
     "outputs_hidden": true
    }
   },
   "outputs": [],
   "source": []
  },
  {
   "cell_type": "markdown",
   "metadata": {},
   "source": [
    "## Task 7 \n",
    "\n",
    "We're finally read to create our master list. \n",
    "Zip the `audio_tour_number` list to the `paintings` list and save it as `master_list`.\n",
    "\n",
    "Hint: Make sure to convert the zipped object into a list using the `list()` function."
   ]
  },
  {
   "cell_type": "code",
   "execution_count": null,
   "metadata": {
    "collapsed": true,
    "jupyter": {
     "outputs_hidden": true
    }
   },
   "outputs": [],
   "source": []
  },
  {
   "cell_type": "markdown",
   "metadata": {},
   "source": [
    "## Task 8 \n",
    "Print the `master_list` to the terminal."
   ]
  },
  {
   "cell_type": "code",
   "execution_count": null,
   "metadata": {
    "collapsed": true,
    "jupyter": {
     "outputs_hidden": true
    }
   },
   "outputs": [],
   "source": []
  }
 ],
 "metadata": {
  "kernelspec": {
   "display_name": "Python 3 (ipykernel)",
   "language": "python",
   "name": "python3"
  },
  "language_info": {
   "codemirror_mode": {
    "name": "ipython",
    "version": 3
   },
   "file_extension": ".py",
   "mimetype": "text/x-python",
   "name": "python",
   "nbconvert_exporter": "python",
   "pygments_lexer": "ipython3",
   "version": "3.11.7"
  }
 },
 "nbformat": 4,
 "nbformat_minor": 4
}
